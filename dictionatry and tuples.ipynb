{
 "cells": [
  {
   "cell_type": "code",
   "execution_count": 3,
   "metadata": {},
   "outputs": [
    {
     "name": "stdout",
     "output_type": "stream",
     "text": [
      "<class 'dict'>\n"
     ]
    }
   ],
   "source": [
    "#dictionary\n",
    "x={\"a\":1,\"b\":4.45,\"c\":\"Astring\"}\n",
    "print(type(x))"
   ]
  },
  {
   "cell_type": "code",
   "execution_count": 2,
   "metadata": {},
   "outputs": [
    {
     "name": "stdout",
     "output_type": "stream",
     "text": [
      "<class 'dict'>\n"
     ]
    }
   ],
   "source": [
    "x={'a':'1',\"g\":'f'}\n",
    "print(type(x))"
   ]
  },
  {
   "cell_type": "code",
   "execution_count": 13,
   "metadata": {},
   "outputs": [
    {
     "name": "stdout",
     "output_type": "stream",
     "text": [
      "1\n"
     ]
    }
   ],
   "source": [
    "print(x[\"a\"])"
   ]
  },
  {
   "cell_type": "code",
   "execution_count": 5,
   "metadata": {},
   "outputs": [
    {
     "name": "stdout",
     "output_type": "stream",
     "text": [
      "4.45\n"
     ]
    }
   ],
   "source": [
    "print(x[\"b\"])"
   ]
  },
  {
   "cell_type": "code",
   "execution_count": 5,
   "metadata": {},
   "outputs": [
    {
     "name": "stdout",
     "output_type": "stream",
     "text": [
      "Astring\n"
     ]
    }
   ],
   "source": [
    "print(x['c'])"
   ]
  },
  {
   "cell_type": "code",
   "execution_count": 14,
   "metadata": {},
   "outputs": [
    {
     "name": "stdout",
     "output_type": "stream",
     "text": [
      "{}\n"
     ]
    }
   ],
   "source": [
    "#create a dictionary\n",
    "emt=dict()\n",
    "print(emt)"
   ]
  },
  {
   "cell_type": "code",
   "execution_count": 8,
   "metadata": {},
   "outputs": [
    {
     "name": "stdout",
     "output_type": "stream",
     "text": [
      "{'a': 1, 'b': 4.45, 'c': 'Astring'}\n"
     ]
    }
   ],
   "source": [
    "print(x)"
   ]
  },
  {
   "cell_type": "code",
   "execution_count": 9,
   "metadata": {},
   "outputs": [
    {
     "data": {
      "text/plain": [
       "dict_keys(['a', 'b', 'c'])"
      ]
     },
     "execution_count": 9,
     "metadata": {},
     "output_type": "execute_result"
    }
   ],
   "source": [
    "x.keys()\n"
   ]
  },
  {
   "cell_type": "code",
   "execution_count": 11,
   "metadata": {},
   "outputs": [
    {
     "data": {
      "text/plain": [
       "{'a': 1, 'b': 4.45, 'c': 'Astring'}"
      ]
     },
     "execution_count": 11,
     "metadata": {},
     "output_type": "execute_result"
    }
   ],
   "source": [
    "x"
   ]
  },
  {
   "cell_type": "code",
   "execution_count": 12,
   "metadata": {},
   "outputs": [
    {
     "name": "stdout",
     "output_type": "stream",
     "text": [
      "{'a': 1, 'b': 4.45, 'c': 'Astring', 'newky': 34}\n"
     ]
    }
   ],
   "source": [
    "x['newky']=34\n",
    "print(x)"
   ]
  },
  {
   "cell_type": "code",
   "execution_count": 13,
   "metadata": {},
   "outputs": [
    {
     "name": "stdout",
     "output_type": "stream",
     "text": [
      "{'a': 25, 'b': 4.45, 'c': 'Astring', 'newky': 34}\n"
     ]
    }
   ],
   "source": [
    "x['a']=25\n",
    "print(x)"
   ]
  },
  {
   "cell_type": "code",
   "execution_count": 14,
   "metadata": {},
   "outputs": [
    {
     "name": "stdout",
     "output_type": "stream",
     "text": [
      "dict_values([25, 4.45, 'Astring', 34])\n"
     ]
    }
   ],
   "source": [
    "print(x.values())"
   ]
  },
  {
   "cell_type": "code",
   "execution_count": 1,
   "metadata": {},
   "outputs": [
    {
     "name": "stdout",
     "output_type": "stream",
     "text": [
      "23\n",
      "{'a': 23, 'b': 1}\n"
     ]
    }
   ],
   "source": [
    "x={'a':1,'b':1,'a':23}\n",
    "print(x['a'])\n",
    "print(x)\n"
   ]
  },
  {
   "cell_type": "code",
   "execution_count": 23,
   "metadata": {},
   "outputs": [
    {
     "name": "stdout",
     "output_type": "stream",
     "text": [
      "dict_keys(['a', 'b'])\n"
     ]
    }
   ],
   "source": [
    "print(x.keys())"
   ]
  },
  {
   "cell_type": "code",
   "execution_count": 24,
   "metadata": {},
   "outputs": [
    {
     "name": "stdout",
     "output_type": "stream",
     "text": [
      "dict_values([1, 1])\n"
     ]
    }
   ],
   "source": [
    "print(x.values())"
   ]
  },
  {
   "cell_type": "code",
   "execution_count": 7,
   "metadata": {},
   "outputs": [
    {
     "name": "stdout",
     "output_type": "stream",
     "text": [
      "{'empno': [100, 101, 102], 'ename': ['ravi', 'kiran', 'indra'], 'salary': [100, 200, 300]}\n"
     ]
    }
   ],
   "source": [
    "emp = {\n",
    "    'empno' :[100,101,102],\n",
    "    'ename':['ravi','kiran','indra'],\n",
    "    'salary':[100,200,300]\n",
    "}\n",
    "print(emp)"
   ]
  },
  {
   "cell_type": "code",
   "execution_count": 9,
   "metadata": {},
   "outputs": [
    {
     "name": "stdout",
     "output_type": "stream",
     "text": [
      "600\n"
     ]
    }
   ],
   "source": [
    "totsal=0\n",
    "for i in emp['salary']:\n",
    "    totsal=totsal+i\n",
    "print(totsal)"
   ]
  },
  {
   "cell_type": "code",
   "execution_count": 33,
   "metadata": {},
   "outputs": [
    {
     "name": "stdout",
     "output_type": "stream",
     "text": [
      "100\n"
     ]
    }
   ],
   "source": [
    "print(emp['empno'][0])"
   ]
  },
  {
   "cell_type": "code",
   "execution_count": 35,
   "metadata": {},
   "outputs": [
    {
     "name": "stdout",
     "output_type": "stream",
     "text": [
      "['ravi', 'kiran', 'indra']\n"
     ]
    }
   ],
   "source": [
    "print(emp['ename'])"
   ]
  },
  {
   "cell_type": "code",
   "execution_count": 36,
   "metadata": {},
   "outputs": [
    {
     "name": "stdout",
     "output_type": "stream",
     "text": [
      "empno\n",
      "ename\n",
      "salary\n"
     ]
    }
   ],
   "source": [
    "for i in emp:\n",
    "    print(i)"
   ]
  },
  {
   "cell_type": "code",
   "execution_count": 46,
   "metadata": {},
   "outputs": [
    {
     "name": "stdout",
     "output_type": "stream",
     "text": [
      "600\n"
     ]
    }
   ],
   "source": [
    "totsal=0\n",
    "for i in emp['salary']:\n",
    "    totsal =totsal+i\n",
    "print(totsal)"
   ]
  },
  {
   "cell_type": "code",
   "execution_count": 53,
   "metadata": {},
   "outputs": [
    {
     "name": "stdout",
     "output_type": "stream",
     "text": [
      "chuck 1\n",
      "annie 42\n",
      "jan 100\n"
     ]
    }
   ],
   "source": [
    "counts={'chuck':1,'annie':42,'jan':100}\n",
    "for i in ['chuck','annie','jan']:\n",
    "    print(i,counts[i])"
   ]
  },
  {
   "cell_type": "code",
   "execution_count": 49,
   "metadata": {},
   "outputs": [
    {
     "name": "stdout",
     "output_type": "stream",
     "text": [
      "chuck 1\n",
      "annie [42, 44]\n",
      "jan 100\n"
     ]
    }
   ],
   "source": [
    "counts={'chuck':1,'annie':[42,44],'jan':100}\n",
    "for key in counts:\n",
    "    print(key,counts[key])"
   ]
  },
  {
   "cell_type": "code",
   "execution_count": 56,
   "metadata": {},
   "outputs": [
    {
     "name": "stdout",
     "output_type": "stream",
     "text": [
      "100\n",
      "key not found\n"
     ]
    }
   ],
   "source": [
    "counts={'chuck':1,'annie':[42,44],'jan':100}\n",
    "print(counts.get('jan'))\n",
    "print(counts.get('mar','key not found'))"
   ]
  },
  {
   "cell_type": "code",
   "execution_count": 60,
   "metadata": {},
   "outputs": [
    {
     "name": "stdout",
     "output_type": "stream",
     "text": [
      "annie 42\n",
      "jan 100\n"
     ]
    }
   ],
   "source": [
    "counts={'chuck':1,'annie':42,'jan':100}\n",
    "for key in counts:\n",
    "    if(counts[key]>10):\n",
    "        print(key,counts[key])"
   ]
  },
  {
   "cell_type": "code",
   "execution_count": 96,
   "metadata": {},
   "outputs": [
    {
     "name": "stdout",
     "output_type": "stream",
     "text": [
      "indra\n"
     ]
    }
   ],
   "source": [
    "list1=['ravi','indra','kiran']\n",
    "empnum ={\n",
    "    'ravi':99898,'kiran':99898\n",
    "}\n",
    "for i in list1:\n",
    "    if i not in empnum:\n",
    "        print(i)      "
   ]
  },
  {
   "cell_type": "code",
   "execution_count": 84,
   "metadata": {},
   "outputs": [
    {
     "name": "stdout",
     "output_type": "stream",
     "text": [
      "ravi's phone number is 99898\n",
      "john's phone number is unavailable\n"
     ]
    }
   ],
   "source": [
    "empnum ={\n",
    "    'ravi':99898,'kiran':99898,'indra':''\n",
    "}\n",
    "for i in ['ravi','john']:\n",
    "    print(str(i)+'\\'s phone number is',str(empnum.get(i,'unavailable')))\n",
    "    "
   ]
  },
  {
   "cell_type": "code",
   "execution_count": 10,
   "metadata": {},
   "outputs": [
    {
     "name": "stdout",
     "output_type": "stream",
     "text": [
      "{'p': 2, 'o': 3, 'u': 1, 'l': 2, 'a': 4, 'r': 3, 'm': 1, 't': 1, 'f': 1, 'b': 1, 'n': 1, 'g': 1, 'e': 1}\n"
     ]
    }
   ],
   "source": [
    "word='popularmartofbangalore'\n",
    "empt=dict()\n",
    "for i in word:\n",
    "    empt[i]=empt.get(i,0)+1\n",
    "print(empt)"
   ]
  },
  {
   "cell_type": "code",
   "execution_count": 12,
   "metadata": {},
   "outputs": [
    {
     "name": "stdout",
     "output_type": "stream",
     "text": [
      "{'india': 2, 'is': 2, 'a': 1}\n"
     ]
    }
   ],
   "source": [
    "sent ='india india is is a'\n",
    "empt=dict()\n",
    "sent=sent.split( )\n",
    "#print(sent)\n",
    "for i in sent:\n",
    "     empt[i]=empt.get(i,0)+1\n",
    "print(empt)"
   ]
  },
  {
   "cell_type": "code",
   "execution_count": 95,
   "metadata": {},
   "outputs": [
    {
     "name": "stdout",
     "output_type": "stream",
     "text": [
      "{'p': 2, 'o': 3, 'u': 1, 'l': 2, 'a': 4, 'r': 3, 'm': 1, 't': 1, 'f': 1, 'b': 1, 'n': 1, 'g': 1, 'e': 1}\n"
     ]
    }
   ],
   "source": [
    "word='popularmartofbangalore'\n",
    "empt=dict()\n",
    "for i in word:\n",
    "        empt[i]=empt.get(i,0)+1\n",
    "print(empt)"
   ]
  },
  {
   "cell_type": "code",
   "execution_count": 98,
   "metadata": {},
   "outputs": [
    {
     "name": "stdout",
     "output_type": "stream",
     "text": [
      "7494383\n",
      "2423432\n"
     ]
    }
   ],
   "source": [
    "phone={'john':[99999,7494383],'ravi':[948595,2423432]}\n",
    "for i in phone:\n",
    "    print(phone[i][1])"
   ]
  },
  {
   "cell_type": "code",
   "execution_count": 115,
   "metadata": {},
   "outputs": [
    {
     "name": "stdout",
     "output_type": "stream",
     "text": [
      "{'this': 1, 'is': 3, 'my': 2, 'india': 3, 'country': 1, 'i': 1, 'love': 1}\n",
      "3\n",
      "is,india 3\n"
     ]
    }
   ],
   "source": [
    "str1='this is my india india is my country i love is india'\n",
    "str2=str1.split()\n",
    "empt=dict()\n",
    "for i in str2:\n",
    "    empt[i]=empt.get(i,0)+1\n",
    "print(empt)\n",
    "large=0\n",
    "value=''\n",
    "for i in empt:\n",
    "    if(empt[i]>large):\n",
    "        large=empt[i]\n",
    "        value=i\n",
    "    elif(empt[i]==large):\n",
    "        value=value+','+i\n",
    "print(value,large)"
   ]
  },
  {
   "cell_type": "code",
   "execution_count": 117,
   "metadata": {},
   "outputs": [
    {
     "name": "stdout",
     "output_type": "stream",
     "text": [
      "{'this': 1, 'is': 3, 'my': 2, 'india': 3, 'country': 1, 'i': 1, 'love': 1}\n",
      "is\n",
      "india\n"
     ]
    }
   ],
   "source": [
    "str1='this is my india india is my country i love is india'\n",
    "str2=str1.split()\n",
    "empt=dict()\n",
    "for i in str2:\n",
    "    empt[i]=empt.get(i,0)+1\n",
    "print(empt)\n",
    "high = max(empt.values())\n",
    "for i in empt:\n",
    "    if(empt[i]== high):\n",
    "        print(i)"
   ]
  },
  {
   "cell_type": "code",
   "execution_count": 16,
   "metadata": {},
   "outputs": [
    {
     "name": "stdout",
     "output_type": "stream",
     "text": [
      "enter any stringrafsadasd\n",
      "r1fs1d1sd\n"
     ]
    }
   ],
   "source": [
    "#string replace \"aeiou\" by \"12345\"\n",
    "str1=input('enter any string')\n",
    "strdict={'a':'1','e':'2','i':'3','o':'4','u':'5'}\n",
    "str2=[]\n",
    "for i in str1:\n",
    "    i=i.lower()\n",
    "    str2.append(strdict.get(i,i))\n",
    "print(\"\".join(str2))"
   ]
  },
  {
   "cell_type": "code",
   "execution_count": 36,
   "metadata": {},
   "outputs": [
    {
     "name": "stdout",
     "output_type": "stream",
     "text": [
      "enter any stringravi\n",
      "['r', '1', 'v', '3']\n"
     ]
    },
    {
     "data": {
      "text/plain": [
       "'r1v3'"
      ]
     },
     "execution_count": 36,
     "metadata": {},
     "output_type": "execute_result"
    }
   ],
   "source": [
    "#string replace \"aeiou\" by \"12345\"\n",
    "str=input(\"enter any string\")\n",
    "#using dictionaries\n",
    "str1=[]\n",
    "strdict={'a':'1','e':'2','i':'3','o':'4','u':'5'}\n",
    "for i in str:\n",
    "        i=i.lower()\n",
    "        str1.append(strdict.get(i,i))\n",
    "print(str1)\n",
    "\"\".join(str1)"
   ]
  },
  {
   "cell_type": "code",
   "execution_count": 20,
   "metadata": {},
   "outputs": [
    {
     "name": "stdout",
     "output_type": "stream",
     "text": [
      "enter a stringravi\n"
     ]
    },
    {
     "data": {
      "text/plain": [
       "'r1v3'"
      ]
     },
     "execution_count": 20,
     "metadata": {},
     "output_type": "execute_result"
    }
   ],
   "source": [
    "str1 =input('enter a string')\n",
    "str2 = list(map(lambda x:strdict.get(x.lower(),x.lower()),str1))\n",
    "\"\".join(str2)"
   ]
  },
  {
   "cell_type": "code",
   "execution_count": 22,
   "metadata": {},
   "outputs": [
    {
     "name": "stdout",
     "output_type": "stream",
     "text": [
      "enter a stringravi\n"
     ]
    },
    {
     "data": {
      "text/plain": [
       "'r1v3'"
      ]
     },
     "execution_count": 22,
     "metadata": {},
     "output_type": "execute_result"
    }
   ],
   "source": [
    "str1 =input('enter a string')\n",
    "str2= [strdict.get(i.lower(),i.lower()) for i in str1]\n",
    "\"\".join(str2)"
   ]
  },
  {
   "cell_type": "code",
   "execution_count": 55,
   "metadata": {},
   "outputs": [
    {
     "name": "stdout",
     "output_type": "stream",
     "text": [
      "enter a  stringravi\n"
     ]
    },
    {
     "data": {
      "text/plain": [
       "'r1v3'"
      ]
     },
     "execution_count": 55,
     "metadata": {},
     "output_type": "execute_result"
    }
   ],
   "source": [
    "#using map \n",
    "str=input(\"enter a  string\")\n",
    "str1=list(map(lambda x:strdict.get(x.lower(),x.lower()),str))\n",
    "\"\".join(str1)"
   ]
  },
  {
   "cell_type": "code",
   "execution_count": 52,
   "metadata": {},
   "outputs": [
    {
     "name": "stdout",
     "output_type": "stream",
     "text": [
      "enter any stringravi\n"
     ]
    },
    {
     "data": {
      "text/plain": [
       "'r1v3'"
      ]
     },
     "execution_count": 52,
     "metadata": {},
     "output_type": "execute_result"
    }
   ],
   "source": [
    "#using listcomprehension\n",
    "str3 =input(\"enter any string\")\n",
    "strdict={'a':'1','e':'2','i':'3','o':'4','u':'5'}\n",
    "str1=[strdict.get(i.lower(),i.lower()) for i  in str3]\n",
    "\"\".join(str1)"
   ]
  },
  {
   "cell_type": "code",
   "execution_count": 62,
   "metadata": {},
   "outputs": [
    {
     "name": "stdout",
     "output_type": "stream",
     "text": [
      "r1v3ndr1\n"
     ]
    }
   ],
   "source": [
    "#maketrans and translate maketrans has 3 parameters src ,dest and delchar \n",
    "#src is the what to be replaced \n",
    "#dest with what it should be replaced\n",
    "#delchar is which characger to be deleted\n",
    "str1=\"ravindra\"\n",
    "tbl = str1.maketrans(\"aeiou\",\"12345\")\n",
    "print(str1.translate(tbl))"
   ]
  },
  {
   "cell_type": "markdown",
   "metadata": {},
   "source": [
    "# Tuples"
   ]
  },
  {
   "cell_type": "code",
   "execution_count": 21,
   "metadata": {},
   "outputs": [
    {
     "name": "stdout",
     "output_type": "stream",
     "text": [
      "('a', 'b', 1, 2, 'e')\n",
      "<class 'tuple'>\n"
     ]
    }
   ],
   "source": [
    "t= ('a','b',1,2,'e')\n",
    "print(t)\n",
    "print(type(t))"
   ]
  },
  {
   "cell_type": "code",
   "execution_count": 23,
   "metadata": {},
   "outputs": [
    {
     "name": "stdout",
     "output_type": "stream",
     "text": [
      "(1, 2, 3, 'a')\n",
      "<class 'tuple'>\n"
     ]
    }
   ],
   "source": [
    "t=(1,2,3,'a')\n",
    "print(t)\n",
    "print(type(t))"
   ]
  },
  {
   "cell_type": "code",
   "execution_count": 65,
   "metadata": {},
   "outputs": [
    {
     "name": "stdout",
     "output_type": "stream",
     "text": [
      "('l', 'u', 'p', 'i', 'n', 's')\n"
     ]
    }
   ],
   "source": [
    "t=tuple('lupins')\n",
    "print(t)"
   ]
  },
  {
   "cell_type": "code",
   "execution_count": 66,
   "metadata": {},
   "outputs": [
    {
     "ename": "TypeError",
     "evalue": "'tuple' object does not support item assignment",
     "output_type": "error",
     "traceback": [
      "\u001b[1;31m---------------------------------------------------------------------------\u001b[0m",
      "\u001b[1;31mTypeError\u001b[0m                                 Traceback (most recent call last)",
      "\u001b[1;32m<ipython-input-66-d781cf75ced1>\u001b[0m in \u001b[0;36m<module>\u001b[1;34m()\u001b[0m\n\u001b[0;32m      1\u001b[0m \u001b[1;31m#tuples are immutable we cannot change the values\u001b[0m\u001b[1;33m\u001b[0m\u001b[1;33m\u001b[0m\u001b[0m\n\u001b[1;32m----> 2\u001b[1;33m \u001b[0mt\u001b[0m\u001b[1;33m[\u001b[0m\u001b[1;36m0\u001b[0m\u001b[1;33m]\u001b[0m\u001b[1;33m=\u001b[0m\u001b[1;36m1\u001b[0m\u001b[1;33m\u001b[0m\u001b[0m\n\u001b[0m",
      "\u001b[1;31mTypeError\u001b[0m: 'tuple' object does not support item assignment"
     ]
    }
   ],
   "source": [
    "#tuples are immutable we cannot change the values\n",
    "t[0]=1"
   ]
  },
  {
   "cell_type": "code",
   "execution_count": 67,
   "metadata": {},
   "outputs": [
    {
     "data": {
      "text/plain": [
       "['__add__',\n",
       " '__class__',\n",
       " '__contains__',\n",
       " '__delattr__',\n",
       " '__dir__',\n",
       " '__doc__',\n",
       " '__eq__',\n",
       " '__format__',\n",
       " '__ge__',\n",
       " '__getattribute__',\n",
       " '__getitem__',\n",
       " '__getnewargs__',\n",
       " '__gt__',\n",
       " '__hash__',\n",
       " '__init__',\n",
       " '__init_subclass__',\n",
       " '__iter__',\n",
       " '__le__',\n",
       " '__len__',\n",
       " '__lt__',\n",
       " '__mul__',\n",
       " '__ne__',\n",
       " '__new__',\n",
       " '__reduce__',\n",
       " '__reduce_ex__',\n",
       " '__repr__',\n",
       " '__rmul__',\n",
       " '__setattr__',\n",
       " '__sizeof__',\n",
       " '__str__',\n",
       " '__subclasshook__',\n",
       " 'count',\n",
       " 'index']"
      ]
     },
     "execution_count": 67,
     "metadata": {},
     "output_type": "execute_result"
    }
   ],
   "source": [
    "dir(t)"
   ]
  },
  {
   "cell_type": "code",
   "execution_count": 25,
   "metadata": {},
   "outputs": [
    {
     "data": {
      "text/plain": [
       "3"
      ]
     },
     "execution_count": 25,
     "metadata": {},
     "output_type": "execute_result"
    }
   ],
   "source": [
    "t=('aaabb')\n",
    "t.count('a')\n"
   ]
  },
  {
   "cell_type": "code",
   "execution_count": 5,
   "metadata": {},
   "outputs": [
    {
     "data": {
      "text/plain": [
       "1"
      ]
     },
     "execution_count": 5,
     "metadata": {},
     "output_type": "execute_result"
    }
   ],
   "source": [
    "t=('addd','b')\n",
    "t.index('b')"
   ]
  },
  {
   "cell_type": "code",
   "execution_count": 28,
   "metadata": {},
   "outputs": [
    {
     "name": "stdout",
     "output_type": "stream",
     "text": [
      "aradd\n"
     ]
    }
   ],
   "source": [
    "t=('aradd')\n",
    "print(t)"
   ]
  },
  {
   "cell_type": "code",
   "execution_count": 6,
   "metadata": {},
   "outputs": [
    {
     "name": "stdout",
     "output_type": "stream",
     "text": [
      "('a', 'z', 'c')\n",
      "dict_items([('a', 1), ('z', 12), ('c', 22)])\n",
      "[('a', 1), ('z', 12), ('c', 22)]\n"
     ]
    }
   ],
   "source": [
    "d={'a':1,'z':12,'c':22}\n",
    "print(tuple(d))\n",
    "print(d.items())\n",
    "lst=list(d.items())\n",
    "print(lst)"
   ]
  },
  {
   "cell_type": "code",
   "execution_count": 78,
   "metadata": {},
   "outputs": [
    {
     "name": "stdout",
     "output_type": "stream",
     "text": [
      "[('a', 1), ('c', 22), ('z', 12)]\n"
     ]
    },
    {
     "data": {
      "text/plain": [
       "{'a': 1, 'c': 22, 'z': 12}"
      ]
     },
     "execution_count": 78,
     "metadata": {},
     "output_type": "execute_result"
    }
   ],
   "source": [
    "lst.sort()\n",
    "print(lst)\n",
    "dict(lst)"
   ]
  },
  {
   "cell_type": "code",
   "execution_count": 32,
   "metadata": {},
   "outputs": [
    {
     "name": "stdout",
     "output_type": "stream",
     "text": [
      "((1, 3), (2, 4), (3, 5))\n"
     ]
    }
   ],
   "source": [
    "a=[1,2,3]\n",
    "b=[3,4,5]\n",
    "z=tuple(zip(a,b))\n",
    "print(z)"
   ]
  },
  {
   "cell_type": "code",
   "execution_count": 79,
   "metadata": {},
   "outputs": [
    {
     "name": "stdout",
     "output_type": "stream",
     "text": [
      "((1, 3), (2, 4), (3, 5))\n"
     ]
    }
   ],
   "source": [
    "#zipping the lists into tuple\n",
    "a=[1,2,3]\n",
    "b=[3,4,5]\n",
    "z=tuple(zip(a,b))\n",
    "print(z)"
   ]
  },
  {
   "cell_type": "code",
   "execution_count": 85,
   "metadata": {},
   "outputs": [
    {
     "name": "stdout",
     "output_type": "stream",
     "text": [
      "{1: 6, 2: 4, 3: 5}\n"
     ]
    }
   ],
   "source": [
    "#zipping the lists into tuple\n",
    "a=[1,2,3,1]\n",
    "b=[3,4,5,6]\n",
    "z=dict(zip(a,b))\n",
    "print(z)"
   ]
  },
  {
   "cell_type": "code",
   "execution_count": 87,
   "metadata": {},
   "outputs": [
    {
     "data": {
      "text/plain": [
       "[(1, 3),\n",
       " (1, 4),\n",
       " (1, 5),\n",
       " (1, 6),\n",
       " (2, 3),\n",
       " (2, 4),\n",
       " (2, 5),\n",
       " (2, 6),\n",
       " (3, 3),\n",
       " (3, 4),\n",
       " (3, 5),\n",
       " (3, 6),\n",
       " (1, 3),\n",
       " (1, 4),\n",
       " (1, 5),\n",
       " (1, 6)]"
      ]
     },
     "execution_count": 87,
     "metadata": {},
     "output_type": "execute_result"
    }
   ],
   "source": [
    "import itertools as itr\n",
    "list(itr.product(a,b))"
   ]
  },
  {
   "cell_type": "code",
   "execution_count": 27,
   "metadata": {},
   "outputs": [
    {
     "name": "stdout",
     "output_type": "stream",
     "text": [
      "enter number6\n"
     ]
    }
   ],
   "source": [
    "num1=int(input(\"enter number\"))\n",
    "count=0\n",
    "for j in range(2,num1):\n",
    "    if(num1%j==0):\n",
    "        count=1\n",
    "        break\n",
    "if(count==0 and num1!=1):\n",
    "    print(num1)"
   ]
  },
  {
   "cell_type": "code",
   "execution_count": 8,
   "metadata": {},
   "outputs": [
    {
     "data": {
      "text/plain": [
       "a    1\n",
       "c    3\n",
       "d    1\n",
       "dtype: int64"
      ]
     },
     "execution_count": 8,
     "metadata": {},
     "output_type": "execute_result"
    }
   ],
   "source": [
    "import pandas as pd\n",
    "p_dict={'a':1,'d':1,'c':3}\n",
    "a=pd.Series(p_dict)\n",
    "a"
   ]
  }
 ],
 "metadata": {
  "kernelspec": {
   "display_name": "Python 3",
   "language": "python",
   "name": "python3"
  },
  "language_info": {
   "codemirror_mode": {
    "name": "ipython",
    "version": 3
   },
   "file_extension": ".py",
   "mimetype": "text/x-python",
   "name": "python",
   "nbconvert_exporter": "python",
   "pygments_lexer": "ipython3",
   "version": "3.6.4"
  }
 },
 "nbformat": 4,
 "nbformat_minor": 2
}
