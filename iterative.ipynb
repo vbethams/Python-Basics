{
 "cells": [
  {
   "cell_type": "code",
   "execution_count": 1,
   "metadata": {},
   "outputs": [
    {
     "name": "stdout",
     "output_type": "stream",
     "text": [
      "5\n",
      "6\n",
      "7\n",
      "8\n",
      "9\n",
      "10\n",
      "loop exit\n"
     ]
    }
   ],
   "source": [
    "n=5\n",
    "while n<=10:\n",
    "    print(n)\n",
    "    n=n+1\n",
    "print(\"loop exit\")"
   ]
  },
  {
   "cell_type": "code",
   "execution_count": 2,
   "metadata": {},
   "outputs": [
    {
     "name": "stdout",
     "output_type": "stream",
     "text": [
      "please enter your item(no when you are done)no\n",
      "enjoy your food\n"
     ]
    }
   ],
   "source": [
    "while(1):\n",
    "    order=input(\"please enter your item(no when you are done)\")\n",
    "    if(order=='No' or order=='no'):\n",
    "        break\n",
    "    else:\n",
    "        print(order)\n",
    "print(\"enjoy your food\")"
   ]
  },
  {
   "cell_type": "code",
   "execution_count": 3,
   "metadata": {},
   "outputs": [
    {
     "name": "stdout",
     "output_type": "stream",
     "text": [
      "please enter the number3\n",
      "3 * 1 = 3\n",
      "3 * 2 = 6\n",
      "3 * 3 = 9\n",
      "3 * 4 = 12\n",
      "3 * 5 = 15\n",
      "3 * 6 = 18\n",
      "3 * 7 = 21\n",
      "3 * 8 = 24\n",
      "3 * 9 = 27\n",
      "3 * 10 = 30\n"
     ]
    }
   ],
   "source": [
    "number=int(input(\"please enter the number\"))\n",
    "count=1\n",
    "while count<=10:\n",
    "    print(number,\"*\",count ,\"=\", number*count )\n",
    "    count=count+1   "
   ]
  },
  {
   "cell_type": "code",
   "execution_count": 4,
   "metadata": {},
   "outputs": [
    {
     "name": "stdout",
     "output_type": "stream",
     "text": [
      "10 * 2\n"
     ]
    }
   ],
   "source": [
    "print(10 ,\"*\" ,2)"
   ]
  },
  {
   "cell_type": "code",
   "execution_count": 5,
   "metadata": {},
   "outputs": [
    {
     "name": "stdout",
     "output_type": "stream",
     "text": [
      "raviindra\n"
     ]
    }
   ],
   "source": [
    "print(\"ravi\"+\"indra\")"
   ]
  },
  {
   "cell_type": "code",
   "execution_count": 8,
   "metadata": {},
   "outputs": [
    {
     "name": "stdout",
     "output_type": "stream",
     "text": [
      "ravi1\n"
     ]
    }
   ],
   "source": [
    "print(\"ravi\"+'1')"
   ]
  },
  {
   "cell_type": "code",
   "execution_count": 9,
   "metadata": {},
   "outputs": [
    {
     "name": "stdout",
     "output_type": "stream",
     "text": [
      "4\n"
     ]
    }
   ],
   "source": [
    "print(1+3)"
   ]
  },
  {
   "cell_type": "code",
   "execution_count": 10,
   "metadata": {},
   "outputs": [
    {
     "name": "stdout",
     "output_type": "stream",
     "text": [
      "enter n1 value5\n",
      "enter n2 value10\n",
      "5\n",
      "6\n",
      "7\n",
      "8\n",
      "9\n",
      "10\n"
     ]
    }
   ],
   "source": [
    "n1=int(input(\"enter n1 value\"))\n",
    "n2=int(input(\"enter n2 value\"))\n",
    "while n1<=n2:\n",
    "    print(n1)\n",
    "    n1=n1+1"
   ]
  },
  {
   "cell_type": "code",
   "execution_count": 23,
   "metadata": {},
   "outputs": [
    {
     "name": "stdout",
     "output_type": "stream",
     "text": [
      "enter n1 value5\n",
      "enter n2 value10\n",
      "10\n",
      "9\n",
      "8\n",
      "7\n",
      "6\n",
      "5\n"
     ]
    }
   ],
   "source": [
    "n1=int(input(\"enter n1 value\"))\n",
    "n2 = int(input(\"enter n2 value\"))\n",
    "while n2>=n1:\n",
    "    print(n2)\n",
    "    n2=n2-1"
   ]
  },
  {
   "cell_type": "code",
   "execution_count": 1,
   "metadata": {},
   "outputs": [
    {
     "name": "stdout",
     "output_type": "stream",
     "text": [
      "enter your number123\n",
      "3\n",
      "2\n",
      "1\n"
     ]
    }
   ],
   "source": [
    "number =int(input(\"enter your number\"))\n",
    "while number>0:\n",
    "    n1=number%10\n",
    "    number=number//10\n",
    "    print(n1)"
   ]
  },
  {
   "cell_type": "code",
   "execution_count": 5,
   "metadata": {},
   "outputs": [
    {
     "name": "stdout",
     "output_type": "stream",
     "text": [
      "enter your number1234\n",
      "sum of numbers 10\n"
     ]
    }
   ],
   "source": [
    "number=int(input(\"enter your number\"))\n",
    "sum=0\n",
    "while number>0:\n",
    "    n1=number%10\n",
    "    sum=sum+n1\n",
    "    number=number//10\n",
    "print(\"sum of numbers\",sum)"
   ]
  },
  {
   "cell_type": "code",
   "execution_count": null,
   "metadata": {},
   "outputs": [],
   "source": []
  }
 ],
 "metadata": {
  "kernelspec": {
   "display_name": "Python 3",
   "language": "python",
   "name": "python3"
  },
  "language_info": {
   "codemirror_mode": {
    "name": "ipython",
    "version": 3
   },
   "file_extension": ".py",
   "mimetype": "text/x-python",
   "name": "python",
   "nbconvert_exporter": "python",
   "pygments_lexer": "ipython3",
   "version": "3.6.4"
  }
 },
 "nbformat": 4,
 "nbformat_minor": 2
}
