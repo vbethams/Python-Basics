{
 "cells": [
  {
   "cell_type": "code",
   "execution_count": 1,
   "metadata": {},
   "outputs": [
    {
     "name": "stdout",
     "output_type": "stream",
     "text": [
      "please enter your age(no when you are done)rgret\n",
      "enter only correct string\n",
      "please enter your age(no when you are done)no\n",
      "finished\n"
     ]
    }
   ],
   "source": [
    "while(1):\n",
    "    age=input(\"please enter your age(no when you are done)\")\n",
    "    try:\n",
    "        if(age=='No' or age=='no'):\n",
    "            break\n",
    "        else:\n",
    "            age=int(age)\n",
    "            if(age <=5):\n",
    "                print(\"toddler\")\n",
    "            elif(age>5 and age<=12):\n",
    "                print(\"child\")\n",
    "            elif(age>=13 and age <=19):\n",
    "                print(\"teenager\")\n",
    "            else:\n",
    "                print(\"adult\")\n",
    "    except Exception:\n",
    "        print(\"enter only correct string\")\n",
    "print(\"finished\")"
   ]
  },
  {
   "cell_type": "code",
   "execution_count": 3,
   "metadata": {},
   "outputs": [
    {
     "name": "stdout",
     "output_type": "stream",
     "text": [
      "please enter age21\n",
      "21\n",
      "please enter ageno4\n",
      "enter only correct string\n",
      "please enter ageno\n"
     ]
    }
   ],
   "source": [
    "while(1):\n",
    "    try:\n",
    "        age=input('please enter age')\n",
    "        if (age=='NO' or age== 'no' or age =='No'):\n",
    "            break\n",
    "        else:\n",
    "            age=int(age)\n",
    "            print(age)\n",
    "    except Exception:\n",
    "        print('enter only correct string')"
   ]
  }
 ],
 "metadata": {
  "kernelspec": {
   "display_name": "Python 3",
   "language": "python",
   "name": "python3"
  },
  "language_info": {
   "codemirror_mode": {
    "name": "ipython",
    "version": 3
   },
   "file_extension": ".py",
   "mimetype": "text/x-python",
   "name": "python",
   "nbconvert_exporter": "python",
   "pygments_lexer": "ipython3",
   "version": "3.6.4"
  }
 },
 "nbformat": 4,
 "nbformat_minor": 2
}
