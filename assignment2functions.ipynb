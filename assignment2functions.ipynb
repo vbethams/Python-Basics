{
 "cells": [
  {
   "cell_type": "code",
   "execution_count": 2,
   "metadata": {},
   "outputs": [],
   "source": [
    "#first question\n",
    "def first(num1,num2,num3):\n",
    "    if(num3==1):\n",
    "         return num1+num2\n",
    "    elif(num3==2):\n",
    "        return num1-num2\n",
    "    elif(num3==3):\n",
    "        return num1*num2\n",
    "    elif(num4==4):\n",
    "        return num1/num2"
   ]
  },
  {
   "cell_type": "code",
   "execution_count": 3,
   "metadata": {},
   "outputs": [
    {
     "name": "stdout",
     "output_type": "stream",
     "text": [
      "enter first number5\n",
      "enter second number6\n",
      "enter third number2\n"
     ]
    },
    {
     "data": {
      "text/plain": [
       "-1"
      ]
     },
     "execution_count": 3,
     "metadata": {},
     "output_type": "execute_result"
    }
   ],
   "source": [
    "num1=int(input(\"enter first number\"))\n",
    "num2=int(input(\"enter second number\"))\n",
    "num3=int(input(\"enter third number\"))\n",
    "first(num1,num2,num3)"
   ]
  },
  {
   "cell_type": "code",
   "execution_count": 6,
   "metadata": {},
   "outputs": [],
   "source": [
    "#second question\n",
    "def second(num):\n",
    "    prod=1\n",
    "    while num>0:\n",
    "        n= num %10\n",
    "        prod= prod *n\n",
    "        num=num//10\n",
    "        \n",
    "    return prod"
   ]
  },
  {
   "cell_type": "code",
   "execution_count": 7,
   "metadata": {},
   "outputs": [
    {
     "name": "stdout",
     "output_type": "stream",
     "text": [
      "enter the number123\n"
     ]
    },
    {
     "data": {
      "text/plain": [
       "6"
      ]
     },
     "execution_count": 7,
     "metadata": {},
     "output_type": "execute_result"
    }
   ],
   "source": [
    "num = int(input(\"enter the number\"))\n",
    "second(num)"
   ]
  },
  {
   "cell_type": "code",
   "execution_count": 10,
   "metadata": {},
   "outputs": [],
   "source": [
    "#third question\n",
    "def third(num):\n",
    "    rev=0\n",
    "    while num>0:\n",
    "        n=num%10\n",
    "        rev =rev*10+n\n",
    "        num=num//10\n",
    "    return rev"
   ]
  },
  {
   "cell_type": "code",
   "execution_count": 11,
   "metadata": {},
   "outputs": [
    {
     "name": "stdout",
     "output_type": "stream",
     "text": [
      "enter the number1234\n"
     ]
    },
    {
     "data": {
      "text/plain": [
       "4321"
      ]
     },
     "execution_count": 11,
     "metadata": {},
     "output_type": "execute_result"
    }
   ],
   "source": [
    "number=int(input(\"enter the number\"))\n",
    "third(number)"
   ]
  },
  {
   "cell_type": "code",
   "execution_count": 16,
   "metadata": {},
   "outputs": [
    {
     "name": "stdout",
     "output_type": "stream",
     "text": [
      "enter the a1 value1\n",
      "enter the a2 value1\n",
      "enter the a3 value1\n",
      "enter the b1 value1\n",
      "enter the b2 value1\n",
      "enter the b3 value1\n"
     ]
    },
    {
     "data": {
      "text/plain": [
       "'same'"
      ]
     },
     "execution_count": 16,
     "metadata": {},
     "output_type": "execute_result"
    }
   ],
   "source": [
    "#fourth question\n",
    "def fourth(a1,a2,a3,b1,b2,b3):\n",
    "    abhay=0\n",
    "    babita=0\n",
    "    if(a1 >b1):\n",
    "        abhay = abhay+1\n",
    "    elif(a1<b1):\n",
    "        babita=babita+1\n",
    "    if(a2>b2):\n",
    "        abhay=abhay+1\n",
    "    elif(a2<b2):\n",
    "        babita =babita+1\n",
    "    if(a3>b3):\n",
    "        abhay=abhay+1\n",
    "    elif(a3<b3):\n",
    "        babita=babita+1\n",
    "     \n",
    "    count=abhay+babita\n",
    "    if(count>0):\n",
    "        if(abhay>babita ):\n",
    "            return 'abhay'\n",
    "        else:\n",
    "            return 'babita'\n",
    "    else:\n",
    "        return 'same'\n",
    "\n",
    "a1=int(input(\"enter the a1 value\"))\n",
    "a2=int(input(\"enter the a2 value\"))\n",
    "a3=int(input(\"enter the a3 value\"))\n",
    "b1=int(input(\"enter the b1 value\"))\n",
    "b2=int(input(\"enter the b2 value\"))\n",
    "b3=int(input(\"enter the b3 value\"))\n",
    "fourth(a1,a2,a3,b1,b2,b3)"
   ]
  },
  {
   "cell_type": "code",
   "execution_count": 3,
   "metadata": {},
   "outputs": [
    {
     "name": "stdout",
     "output_type": "stream",
     "text": [
      "enter the number5\n",
      "101"
     ]
    }
   ],
   "source": [
    "#fifth question\n",
    "def convertToBinary(n):\n",
    "    if n > 1:\n",
    "        convertToBinary(n//2)\n",
    "    print(n % 2,end = '')\n",
    "dec = int(input(\"enter the number\"))\n",
    "\n",
    "convertToBinary(dec)"
   ]
  },
  {
   "cell_type": "code",
   "execution_count": 2,
   "metadata": {},
   "outputs": [
    {
     "name": "stdout",
     "output_type": "stream",
     "text": [
      "enter a number: 101\n",
      "5\n"
     ]
    }
   ],
   "source": [
    "#sixth question\n",
    "def decim(binary):\n",
    "    decimal = 0\n",
    "    for digit in binary:\n",
    "        decimal = decimal*2 + int(digit)\n",
    "    print (decimal)\n",
    "binary = input('enter a number: ')\n",
    "decim(binary)"
   ]
  },
  {
   "cell_type": "code",
   "execution_count": 18,
   "metadata": {},
   "outputs": [
    {
     "name": "stdout",
     "output_type": "stream",
     "text": [
      "enter the number5\n",
      "0\n",
      "1\n",
      "1\n",
      "2\n",
      "3\n",
      "5\n",
      "8\n"
     ]
    }
   ],
   "source": [
    "#seventh question\n",
    "def seven(num):\n",
    "    first=0\n",
    "    second=1\n",
    "    print(first)\n",
    "    print(second)\n",
    "    while num>0:\n",
    "        third=first+second\n",
    "        print(third)\n",
    "        first=second\n",
    "        second=third\n",
    "        num=num-1\n",
    "    \n",
    "numm=int(input(\"enter the number\"))\n",
    "seven(numm)"
   ]
  },
  {
   "cell_type": "code",
   "execution_count": 23,
   "metadata": {},
   "outputs": [
    {
     "name": "stdout",
     "output_type": "stream",
     "text": [
      "enter the marks36\n"
     ]
    },
    {
     "data": {
      "text/plain": [
       "'C'"
      ]
     },
     "execution_count": 23,
     "metadata": {},
     "output_type": "execute_result"
    }
   ],
   "source": [
    "#eigth question\n",
    "def eight(num):\n",
    "    if(num>=80 and num ==100):\n",
    "        return 'A'\n",
    "    elif(num<=79 and num >=50):\n",
    "        return 'B'\n",
    "    elif(num<=49 and num>=35):\n",
    "        return 'C'\n",
    "    else:\n",
    "        return 'Fail'\n",
    "\n",
    "numme=int(input('enter the marks'))\n",
    "eight(numme)"
   ]
  },
  {
   "cell_type": "code",
   "execution_count": 2,
   "metadata": {},
   "outputs": [
    {
     "name": "stdout",
     "output_type": "stream",
     "text": [
      "enter the number5\n",
      "*\n",
      "**\n",
      "***\n",
      "****\n",
      "*****\n",
      "******\n"
     ]
    }
   ],
   "source": [
    "#ninth question\n",
    "def pattern(num):\n",
    "    for i in range(num+1):\n",
    "        for j in range(i+1):\n",
    "            print('*',end='')\n",
    "        print()\n",
    "        \n",
    "star=int(input(\"enter the number\"))\n",
    "pattern(star)\n",
    "            "
   ]
  },
  {
   "cell_type": "code",
   "execution_count": 4,
   "metadata": {},
   "outputs": [
    {
     "name": "stdout",
     "output_type": "stream",
     "text": [
      "M2n6p2l Pr8l42rn\n",
      "PR8L42RN\n"
     ]
    }
   ],
   "source": [
    "#tenth question\n",
    "def tenth(str):\n",
    "    str=str.replace('a','2')\n",
    "    str=str.replace('e','4')\n",
    "    str=str.replace('i','6')\n",
    "    str=str.replace('o','8')\n",
    "    str=str.replace('u','10')\n",
    "    print(str)\n",
    "    half=str[8:].upper()\n",
    "    print(half)\n",
    "stri='Manipal Prolearn'\n",
    "tenth(stri)"
   ]
  },
  {
   "cell_type": "code",
   "execution_count": 6,
   "metadata": {},
   "outputs": [
    {
     "name": "stdout",
     "output_type": "stream",
     "text": [
      "enter a stringMango is a fruit. Orange is a color\n",
      "enter a patternis\n",
      "2\n"
     ]
    }
   ],
   "source": [
    "#eleventh question\n",
    "def eleventh(strr,patter):\n",
    "    count=0\n",
    "    y=strr.split(' ')\n",
    "    for i in y:\n",
    "        if patter==i:\n",
    "            count=count+1\n",
    "    print(count)\n",
    "strr=input('enter a string')\n",
    "patter=input(\"enter a pattern\")\n",
    "eleventh(strr,patter)"
   ]
  }
 ],
 "metadata": {
  "kernelspec": {
   "display_name": "Python 3",
   "language": "python",
   "name": "python3"
  },
  "language_info": {
   "codemirror_mode": {
    "name": "ipython",
    "version": 3
   },
   "file_extension": ".py",
   "mimetype": "text/x-python",
   "name": "python",
   "nbconvert_exporter": "python",
   "pygments_lexer": "ipython3",
   "version": "3.6.4"
  }
 },
 "nbformat": 4,
 "nbformat_minor": 2
}
