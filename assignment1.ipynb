{
 "cells": [
  {
   "cell_type": "code",
   "execution_count": 7,
   "metadata": {},
   "outputs": [
    {
     "name": "stdout",
     "output_type": "stream",
     "text": [
      "enter the  temperature:102\n",
      "enter temparature type:tc\n",
      "the converted temperatue is: 215.6\n"
     ]
    }
   ],
   "source": [
    "try:\n",
    "    tc = float(input(\"enter the  temperature:\"))\n",
    "    temptype =input(\"enter temparature type:\")\n",
    "    if(temptype == 'tc'):\n",
    "        result=tc *1.8+32\n",
    "    else:\n",
    "        result=(tf-32)/1.8\n",
    "except Exception:\n",
    "    print(\"enter only integers:\")\n",
    "    tc =float(input(\"enter the  temperature:\"))\n",
    "    temptype =input(\"enter temparature type:\")\n",
    "    if(temptype == 'tc'):\n",
    "        result=tc*1.8+32\n",
    "    else:\n",
    "        result=(tf-32)/1.8\n",
    "print(\"the converted temperatue is:\",result)"
   ]
  },
  {
   "cell_type": "code",
   "execution_count": 5,
   "metadata": {},
   "outputs": [
    {
     "name": "stdout",
     "output_type": "stream",
     "text": [
      "False\n"
     ]
    }
   ],
   "source": [
    "try:\n",
    "    dfsd\n",
    "    print('True')\n",
    "    \n",
    "except:\n",
    "    print('False')"
   ]
  },
  {
   "cell_type": "code",
   "execution_count": 24,
   "metadata": {},
   "outputs": [
    {
     "name": "stdout",
     "output_type": "stream",
     "text": [
      "enter the mass valuea\n",
      "enter integers only\n",
      "enter the mass value1\n",
      "enter the acceleration2\n",
      "2\n"
     ]
    }
   ],
   "source": [
    "try:\n",
    "    m=int(input(\"enter the mass value\"))\n",
    "    a=int(input(\"enter the acceleration\"))   \n",
    "except Exception:\n",
    "    print(\"enter integers only\")\n",
    "    m=int(input(\"enter the mass value\"))\n",
    "    a=int(input(\"enter the acceleration\"))\n",
    "print(m*a)"
   ]
  },
  {
   "cell_type": "code",
   "execution_count": 9,
   "metadata": {},
   "outputs": [
    {
     "name": "stdout",
     "output_type": "stream",
     "text": [
      "enter the hours10\n",
      "enter the rate2\n",
      "20\n"
     ]
    }
   ],
   "source": [
    "try:\n",
    "    hours=int(input(\"enter the hours\"))\n",
    "    rate=int(input(\"enter the rate\"))\n",
    "    grosspay=hours*rate\n",
    "except Exception:\n",
    "    hours=int(input(\"enter the hours\"))\n",
    "    rate=int(input(\"enter the rate\"))\n",
    "    grosspay=hours*rate\n",
    "\n",
    "print(grosspay)"
   ]
  },
  {
   "cell_type": "code",
   "execution_count": 20,
   "metadata": {},
   "outputs": [
    {
     "name": "stdout",
     "output_type": "stream",
     "text": [
      "enter the hours worked45\n",
      "enter the house rate10\n",
      "475.0\n"
     ]
    }
   ],
   "source": [
    "#4\n",
    "try:\n",
    "    hours=int(input(\"enter the hours worked\"))\n",
    "    rate=int(input(\"enter the house rate\"))\n",
    "    if(hours>40):\n",
    "        extrahours=hours-40\n",
    "        hours=40\n",
    "    else:\n",
    "        extrahours=0\n",
    "        hours=hours\n",
    "    totalpay = hours*rate+extrahours*(1.5*rate)\n",
    "    print(totalpay)\n",
    "except Exception:\n",
    "    print(\"Exception\")"
   ]
  },
  {
   "cell_type": "code",
   "execution_count": 18,
   "metadata": {},
   "outputs": [
    {
     "name": "stdout",
     "output_type": "stream",
     "text": [
      "enter the hours worked10\n",
      "enter the house rate9\n",
      "please enter the numeric input\n"
     ]
    }
   ],
   "source": [
    "#5\n",
    "try:\n",
    "    hours=(input(\"enter the hours worked\"))\n",
    "    rate=(input(\"enter the house rate\"))\n",
    "    if(hours>40):\n",
    "        extrahours=hours-40\n",
    "    else:\n",
    "        extrahours=0\n",
    "    totalpay = 40*rate+extrahours*(1.5*rate)\n",
    "    print(totalpay)\n",
    "except Exception:\n",
    "    print(\"please enter the numeric input\")\n",
    "    "
   ]
  },
  {
   "cell_type": "code",
   "execution_count": 23,
   "metadata": {},
   "outputs": [
    {
     "name": "stdout",
     "output_type": "stream",
     "text": [
      "enter the number15\n",
      "given number is odd 15\n"
     ]
    }
   ],
   "source": [
    "number =int(input(\"enter the number\"))\n",
    "number_type= number%2\n",
    "if(number_type == 0):\n",
    "    print(\"given number is even\",number)\n",
    "else:\n",
    "    print(\"given number is odd\",number)"
   ]
  },
  {
   "cell_type": "code",
   "execution_count": null,
   "metadata": {},
   "outputs": [],
   "source": []
  }
 ],
 "metadata": {
  "kernelspec": {
   "display_name": "Python 3",
   "language": "python",
   "name": "python3"
  },
  "language_info": {
   "codemirror_mode": {
    "name": "ipython",
    "version": 3
   },
   "file_extension": ".py",
   "mimetype": "text/x-python",
   "name": "python",
   "nbconvert_exporter": "python",
   "pygments_lexer": "ipython3",
   "version": "3.6.4"
  }
 },
 "nbformat": 4,
 "nbformat_minor": 2
}
