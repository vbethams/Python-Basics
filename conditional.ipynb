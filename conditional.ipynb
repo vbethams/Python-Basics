{
 "cells": [
  {
   "cell_type": "code",
   "execution_count": 1,
   "metadata": {},
   "outputs": [
    {
     "name": "stdout",
     "output_type": "stream",
     "text": [
      "enter your value5\n",
      "enter your j value3\n",
      "i is larger\n",
      "I have foundthe larger\n",
      "i have finished my program\n"
     ]
    }
   ],
   "source": [
    "i=input(\"enter your value\")\n",
    "i= int(i)\n",
    "j=input(\"enter your j value\")\n",
    "j=int(j)\n",
    "if(i>j):\n",
    "    print(\"i is larger\")\n",
    "    print(\"I have found the larger\")\n",
    "else:\n",
    "    print(\"either i is equal or lesser\")\n",
    "print(\"i have finished my program\")"
   ]
  },
  {
   "cell_type": "code",
   "execution_count": 15,
   "metadata": {},
   "outputs": [
    {
     "name": "stdout",
     "output_type": "stream",
     "text": [
      "enter your marks value86\n",
      "A\n",
      "finished\n"
     ]
    }
   ],
   "source": [
    "i=input(\"enter your marks value\")\n",
    "i= int(i)\n",
    "if(i >=70):\n",
    "    print(\"A\")\n",
    "elif(i>=35 & i<70):\n",
    "    print(\"B\")\n",
    "else:\n",
    "    print(\"C\")\n",
    "print(\"finished\")"
   ]
  },
  {
   "cell_type": "code",
   "execution_count": 14,
   "metadata": {},
   "outputs": [
    {
     "name": "stdout",
     "output_type": "stream",
     "text": [
      "enter your i value:102\n",
      "enter your j value:202\n",
      "enter your k value:302\n",
      "largest number is: 302\n"
     ]
    }
   ],
   "source": [
    "#accept3 numbers and display the largest number\n",
    "i=input(\"enter your i value:\")\n",
    "i= int(i)\n",
    "j=input(\"enter your j value:\")\n",
    "j=int(j)\n",
    "k=input(\"enter your k value:\")\n",
    "k=int(k)\n",
    "if(i>j):\n",
    "    if(i>k):\n",
    "        print(\"largest number is: \",i)\n",
    "    else:\n",
    "        print(\"largest number is:\",k)\n",
    "elif(j>k):\n",
    "    print(\"largest number is:\",j)\n",
    "else:\n",
    "    print(\"largest number is:\",k)"
   ]
  },
  {
   "cell_type": "code",
   "execution_count": null,
   "metadata": {},
   "outputs": [],
   "source": []
  },
  {
   "cell_type": "code",
   "execution_count": null,
   "metadata": {},
   "outputs": [],
   "source": []
  },
  {
   "cell_type": "code",
   "execution_count": null,
   "metadata": {},
   "outputs": [],
   "source": []
  },
  {
   "cell_type": "code",
   "execution_count": null,
   "metadata": {},
   "outputs": [],
   "source": []
  },
  {
   "cell_type": "code",
   "execution_count": null,
   "metadata": {},
   "outputs": [],
   "source": []
  },
  {
   "cell_type": "code",
   "execution_count": null,
   "metadata": {},
   "outputs": [],
   "source": []
  },
  {
   "cell_type": "code",
   "execution_count": null,
   "metadata": {},
   "outputs": [],
   "source": []
  }
 ],
 "metadata": {
  "kernelspec": {
   "display_name": "Python 3",
   "language": "python",
   "name": "python3"
  },
  "language_info": {
   "codemirror_mode": {
    "name": "ipython",
    "version": 3
   },
   "file_extension": ".py",
   "mimetype": "text/x-python",
   "name": "python",
   "nbconvert_exporter": "python",
   "pygments_lexer": "ipython3",
   "version": "3.6.4"
  }
 },
 "nbformat": 4,
 "nbformat_minor": 2
}
