{
 "cells": [
  {
   "cell_type": "code",
   "execution_count": 1,
   "metadata": {},
   "outputs": [
    {
     "name": "stdout",
     "output_type": "stream",
     "text": [
      "15\n",
      "5\n",
      "50\n",
      "2.0\n",
      "0\n",
      "2\n",
      "100\n"
     ]
    },
    {
     "data": {
      "text/plain": [
       "str"
      ]
     },
     "execution_count": 1,
     "metadata": {},
     "output_type": "execute_result"
    }
   ],
   "source": [
    "#write a program to demonstrate numerical computations\n",
    "i=10\n",
    "j=5\n",
    "k=i+j\n",
    "print(k)\n",
    "k=i-j\n",
    "print(k)\n",
    "k=i*j\n",
    "print(k)\n",
    "k=i/j\n",
    "print(k)\n",
    "k=i%j\n",
    "print(k)\n",
    "k=i//j\n",
    "print(k)\n",
    "k=i**2\n",
    "print(k)\n",
    "type(k)\n",
    "k=\"str\"\n",
    "type(k)"
   ]
  },
  {
   "cell_type": "code",
   "execution_count": 2,
   "metadata": {},
   "outputs": [
    {
     "name": "stdout",
     "output_type": "stream",
     "text": [
      "enter your value1\n",
      "enter your j valur2\n",
      "<class 'int'>\n",
      "0.5\n"
     ]
    }
   ],
   "source": [
    "i=input(\"enter your value\")\n",
    "i= int(i)\n",
    "j=input(\"enter your j valur\")\n",
    "j=int(j)\n",
    "print (type(i))\n",
    "print(i/j)"
   ]
  },
  {
   "cell_type": "code",
   "execution_count": 21,
   "metadata": {},
   "outputs": [
    {
     "name": "stdout",
     "output_type": "stream",
     "text": [
      "enter your value3\n",
      "enter your j valur2\n",
      "1.5\n"
     ]
    }
   ],
   "source": [
    "i=input(\"enter your value\")\n",
    "i= int(i)\n",
    "j=input(\"enter your j value\")\n",
    "j=int(j)\n",
    "\n",
    "print(i/j)"
   ]
  },
  {
   "cell_type": "code",
   "execution_count": null,
   "metadata": {},
   "outputs": [],
   "source": []
  },
  {
   "cell_type": "code",
   "execution_count": null,
   "metadata": {},
   "outputs": [],
   "source": []
  }
 ],
 "metadata": {
  "kernelspec": {
   "display_name": "Python 3",
   "language": "python",
   "name": "python3"
  },
  "language_info": {
   "codemirror_mode": {
    "name": "ipython",
    "version": 3
   },
   "file_extension": ".py",
   "mimetype": "text/x-python",
   "name": "python",
   "nbconvert_exporter": "python",
   "pygments_lexer": "ipython3",
   "version": "3.6.4"
  }
 },
 "nbformat": 4,
 "nbformat_minor": 2
}
