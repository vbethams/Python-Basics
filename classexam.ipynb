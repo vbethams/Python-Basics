{
 "cells": [
  {
   "cell_type": "code",
   "execution_count": 1,
   "metadata": {},
   "outputs": [
    {
     "name": "stdout",
     "output_type": "stream",
     "text": [
      "enter a stringravi\n"
     ]
    },
    {
     "data": {
      "text/plain": [
       "'vi'"
      ]
     },
     "execution_count": 1,
     "metadata": {},
     "output_type": "execute_result"
    }
   ],
   "source": [
    "str2= input(\"enter a string\")\n",
    "str2[-2:]"
   ]
  },
  {
   "cell_type": "code",
   "execution_count": 11,
   "metadata": {},
   "outputs": [
    {
     "data": {
      "text/plain": [
       "'ra'"
      ]
     },
     "execution_count": 11,
     "metadata": {},
     "output_type": "execute_result"
    }
   ],
   "source": [
    "str2='ravi'\n",
    "str2[0:-2]"
   ]
  },
  {
   "cell_type": "code",
   "execution_count": 2,
   "metadata": {},
   "outputs": [
    {
     "name": "stdout",
     "output_type": "stream",
     "text": [
      "enter the size of list5\n",
      "enter number12\n",
      "enter number101\n",
      "enter number23\n",
      "enter number24\n",
      "enter number35\n",
      "enter number56\n",
      "[12, 101, 23, 24, 35, 56]\n"
     ]
    }
   ],
   "source": [
    "siz = int(input(\"enter the size of list\"))\n",
    "list1=[]\n",
    "for i in range(siz+1):\n",
    "    y= int(input(\"enter number\"))\n",
    "    list1.append(y)\n",
    "print(list1)"
   ]
  },
  {
   "cell_type": "code",
   "execution_count": 5,
   "metadata": {},
   "outputs": [
    {
     "name": "stdout",
     "output_type": "stream",
     "text": [
      "34\n",
      "12\n",
      "4\n"
     ]
    }
   ],
   "source": [
    "for i in list1:\n",
    "    if(i%2 == 0 ):\n",
    "        print(i)"
   ]
  },
  {
   "cell_type": "code",
   "execution_count": 15,
   "metadata": {},
   "outputs": [
    {
     "name": "stdout",
     "output_type": "stream",
     "text": [
      "[12, '', 14, 16, '']\n",
      "[12, 14, 16]\n"
     ]
    }
   ],
   "source": [
    "list1=[12,13,14,16,17]\n",
    "y=list(map(lambda x:x if(x%2==0)else '',list1))\n",
    "print(y)\n",
    "print(list(filter(lambda x:x if(x%2==0) else False,list1)))\n"
   ]
  },
  {
   "cell_type": "code",
   "execution_count": 32,
   "metadata": {},
   "outputs": [
    {
     "name": "stdout",
     "output_type": "stream",
     "text": [
      "{'Maia': 5, 'Jin': 5, 'A': 11, 'B': 11}\n"
     ]
    }
   ],
   "source": [
    "import re\n",
    "empt=dict()\n",
    "list1=[]\n",
    "fhand = open('Dialogue.txt','r')\n",
    "for line in fhand:\n",
    "    if(re.search('.*:',line)):\n",
    "        y=re.findall('(.*):',line)\n",
    "        list1=list1+y\n",
    "for i in list1:\n",
    "    empt[i]=empt.get(i,0)+1\n",
    "print(empt)"
   ]
  },
  {
   "cell_type": "code",
   "execution_count": 11,
   "metadata": {},
   "outputs": [
    {
     "name": "stdout",
     "output_type": "stream",
     "text": [
      "{'Maia': 5, 'Jin': 5, 'A': 11, 'B': 11}\n"
     ]
    }
   ],
   "source": [
    "import re\n",
    "empt= dict()\n",
    "list1=[]\n",
    "fhand = open('Dialogue.txt','r') \n",
    "for line in fhand:\n",
    "    if(re.search('.*:',line)):\n",
    "        y=re.findall('(.*):',line)\n",
    "        list1=list1+y\n",
    "for i in list1:\n",
    "    empt[i]=empt.get(i,0)+1\n",
    "print(empt)"
   ]
  },
  {
   "cell_type": "code",
   "execution_count": 37,
   "metadata": {},
   "outputs": [
    {
     "name": "stdout",
     "output_type": "stream",
     "text": [
      "A\n",
      "B\n"
     ]
    }
   ],
   "source": [
    "high = max(empt.values())\n",
    "for i in empt.keys():\n",
    "    if(empt[i]==high):\n",
    "        print(i)"
   ]
  },
  {
   "cell_type": "code",
   "execution_count": 36,
   "metadata": {},
   "outputs": [
    {
     "name": "stdout",
     "output_type": "stream",
     "text": [
      "A\n",
      "B\n"
     ]
    }
   ],
   "source": [
    "#who speaks the most\n",
    "high = max(empt.values())\n",
    "for i in empt.keys():\n",
    "    if(empt[i]== high):\n",
    "        print(i)"
   ]
  },
  {
   "cell_type": "code",
   "execution_count": 40,
   "metadata": {},
   "outputs": [
    {
     "name": "stdout",
     "output_type": "stream",
     "text": [
      "['spent most of my time studying and ']\n",
      "['Wow, thank you']\n"
     ]
    }
   ],
   "source": [
    "#display all dialogues which are within < >\n",
    "fhand = open('Dialogue.txt')\n",
    "for line in fhand:\n",
    "    if re.search('<.*>',line):\n",
    "        y=re.findall('<(.*)>',line)\n",
    "        print(y)"
   ]
  },
  {
   "cell_type": "code",
   "execution_count": 39,
   "metadata": {},
   "outputs": [
    {
     "name": "stdout",
     "output_type": "stream",
     "text": [
      "['spent most of my time studying and ']\n",
      "['Wow, thank you']\n"
     ]
    }
   ],
   "source": [
    "#display all dialogues which are within < >\n",
    "fhand=open('Dialogue.txt')\n",
    "for line in fhand:\n",
    "    if re.search('Jin:',line):\n",
    "        y=re.findall('<(.*)>',line)\n",
    "        if(len(y)):\n",
    "            print(y)"
   ]
  },
  {
   "cell_type": "code",
   "execution_count": 13,
   "metadata": {},
   "outputs": [
    {
     "name": "stdout",
     "output_type": "stream",
     "text": [
      "enter two numbers1\n",
      "enter second number10\n",
      "2\n",
      "3\n",
      "5\n",
      "7\n"
     ]
    }
   ],
   "source": [
    "#to display prime numbers\n",
    "def prime(a,b):  \n",
    "    for i in range(a,b+1):\n",
    "        count=0\n",
    "        for j in range(2,b):\n",
    "            if(i%j==0):\n",
    "                count=count+1\n",
    "        if(count<=1 and i !=1):\n",
    "            print(i)\n",
    "a= int(input(\"enter two numbers\"))\n",
    "b=int(input (\"enter second number\")) \n",
    "prime(a,b)\n"
   ]
  },
  {
   "cell_type": "code",
   "execution_count": 45,
   "metadata": {},
   "outputs": [
    {
     "name": "stdout",
     "output_type": "stream",
     "text": [
      "108\n"
     ]
    }
   ],
   "source": [
    "#count all vowels in alis dialgues\n",
    "fhand=open('Dialogue.txt')\n",
    "list1=[]\n",
    "for line in fhand:\n",
    "    if(re.search('A:',line)):\n",
    "        line=line.split(':')\n",
    "        y=re.findall('[aeiouAEIOU]',line[1])\n",
    "        list1=list1+y\n",
    "print(len(list1))      "
   ]
  },
  {
   "cell_type": "code",
   "execution_count": 69,
   "metadata": {},
   "outputs": [
    {
     "name": "stdout",
     "output_type": "stream",
     "text": [
      "108\n"
     ]
    }
   ],
   "source": [
    "#count all vowels in alis dialgues\n",
    "fhand = open('Dialogue.txt')\n",
    "list1=[]\n",
    "for line in fhand:\n",
    "    if(re.search('A:',line)):\n",
    "        line= line.split(':')\n",
    "        y=re.findall('[aeiouAEIOU]',line[1])\n",
    "        list1=list1+y\n",
    "print(len(list1))"
   ]
  },
  {
   "cell_type": "code",
   "execution_count": null,
   "metadata": {},
   "outputs": [],
   "source": []
  }
 ],
 "metadata": {
  "kernelspec": {
   "display_name": "Python 3",
   "language": "python",
   "name": "python3"
  },
  "language_info": {
   "codemirror_mode": {
    "name": "ipython",
    "version": 3
   },
   "file_extension": ".py",
   "mimetype": "text/x-python",
   "name": "python",
   "nbconvert_exporter": "python",
   "pygments_lexer": "ipython3",
   "version": "3.6.4"
  }
 },
 "nbformat": 4,
 "nbformat_minor": 2
}
