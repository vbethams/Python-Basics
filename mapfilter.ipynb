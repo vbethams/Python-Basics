{
 "cells": [
  {
   "cell_type": "code",
   "execution_count": 1,
   "metadata": {},
   "outputs": [
    {
     "name": "stdout",
     "output_type": "stream",
     "text": [
      "[1, 4, 9, 16, 25, 36]\n"
     ]
    }
   ],
   "source": [
    "#map functions\n",
    "def square(x):\n",
    "    return x**2\n",
    "num=[1,2,3,4,5,6]\n",
    "l1=list(map(square,num))\n",
    "print(l1)"
   ]
  },
  {
   "cell_type": "code",
   "execution_count": 2,
   "metadata": {},
   "outputs": [
    {
     "name": "stdout",
     "output_type": "stream",
     "text": [
      "[1.05, 2.1, 3.15, 4.2, 5.25, 6.3]\n"
     ]
    }
   ],
   "source": [
    "#incremnet 5 %\n",
    "def numper(x):\n",
    "    return x+0.05*x\n",
    "\n",
    "l2=list(map(numper,num))\n",
    "print(l2)\n",
    "\n"
   ]
  },
  {
   "cell_type": "code",
   "execution_count": 4,
   "metadata": {},
   "outputs": [
    {
     "name": "stdout",
     "output_type": "stream",
     "text": [
      "[1, 4, 9, 16, 25, 36]\n"
     ]
    }
   ],
   "source": [
    "square=lambda x:x**2\n",
    "num=[1,2,3,4,5,6]\n",
    "l3=list(map(square,num))\n",
    "print(l3)"
   ]
  },
  {
   "cell_type": "code",
   "execution_count": 6,
   "metadata": {},
   "outputs": [
    {
     "name": "stdout",
     "output_type": "stream",
     "text": [
      "['A', 'M', 'P']\n"
     ]
    }
   ],
   "source": [
    "fruits=['apple','mango','papaya']\n",
    "print(list(map(lambda x:x[0].upper(),fruits)))"
   ]
  },
  {
   "cell_type": "code",
   "execution_count": 11,
   "metadata": {},
   "outputs": [
    {
     "name": "stdout",
     "output_type": "stream",
     "text": [
      "['P', 'P', 'N']\n"
     ]
    }
   ],
   "source": [
    "def palin(names):\n",
    "        if(names[0::]==names[::-1]):\n",
    "            return 'P'\n",
    "        else:\n",
    "            return 'N'\n",
    "names=['pop','mom','ravi']\n",
    "print(list(map(palin,names)))"
   ]
  },
  {
   "cell_type": "code",
   "execution_count": 2,
   "metadata": {},
   "outputs": [
    {
     "name": "stdout",
     "output_type": "stream",
     "text": [
      "[21, 30, 48, 68]\n",
      "[63, 120, 240, 408]\n"
     ]
    }
   ],
   "source": [
    "a=[1,2,3,4]\n",
    "b=[21,15,16,17]\n",
    "c=[3,4,5,6]\n",
    "print(list(map(lambda x,y:x*y,a,b)))\n",
    "print(list(map(lambda x,y,z:x*y*z,a,b,c)))"
   ]
  },
  {
   "cell_type": "code",
   "execution_count": 36,
   "metadata": {},
   "outputs": [
    {
     "name": "stdout",
     "output_type": "stream",
     "text": [
      "[25.51, 53.333, 40.981, 32.839]\n"
     ]
    }
   ],
   "source": [
    "mass=[50,120,60,70]\n",
    "ht=[1.40,1.50,1.21,1.46]\n",
    "bmi=list(map((lambda x,y: round(x/(y**2),3)),mass,ht))\n",
    "print(bmi)"
   ]
  },
  {
   "cell_type": "code",
   "execution_count": 32,
   "metadata": {},
   "outputs": [
    {
     "name": "stdout",
     "output_type": "stream",
     "text": [
      "[2, 4, 6]\n"
     ]
    }
   ],
   "source": [
    "#to filter even numbers\n",
    "l4=[1,2,3,4,5,6]\n",
    "even = list(filter((lambda x:x if(x%2==0) else False),l4))\n",
    "print(even)"
   ]
  },
  {
   "cell_type": "code",
   "execution_count": 33,
   "metadata": {},
   "outputs": [
    {
     "name": "stdout",
     "output_type": "stream",
     "text": [
      "[6]\n"
     ]
    }
   ],
   "source": [
    "l5=[1,2,3,4,5,6]\n",
    "even = list(filter((lambda x:x if(x>5) else False),l5))\n",
    "print(even)"
   ]
  },
  {
   "cell_type": "code",
   "execution_count": 37,
   "metadata": {},
   "outputs": [
    {
     "name": "stdout",
     "output_type": "stream",
     "text": [
      "[25.51, 53.333, 40.981, 32.839]\n"
     ]
    }
   ],
   "source": [
    "bmi_list= list(filter((lambda x:x if(x>24) else False),bmi))\n",
    "print(bmi_list)"
   ]
  },
  {
   "cell_type": "code",
   "execution_count": 2,
   "metadata": {},
   "outputs": [
    {
     "name": "stdout",
     "output_type": "stream",
     "text": [
      "[5, 9, 7, 9]\n",
      "['Bangalore', 'Lucknow', 'Hyderabad']\n",
      "['', 'Bangalore', 'Lucknow', 'Hyderabad']\n"
     ]
    }
   ],
   "source": [
    "cities =['Delhi','Bangalore','Lucknow','Hyderabad']\n",
    "leng = list(map(lambda x: len(x),cities))\n",
    "print(leng)\n",
    "cit =list(filter(lambda x:len(x)>6,cities))\n",
    "print(cit)\n",
    "city = list(map((lambda x,y:y if(x>6)else ''),leng,cities))\n",
    "print(city)"
   ]
  },
  {
   "cell_type": "code",
   "execution_count": 5,
   "metadata": {},
   "outputs": [
    {
     "data": {
      "text/plain": [
       "27"
      ]
     },
     "execution_count": 5,
     "metadata": {},
     "output_type": "execute_result"
    }
   ],
   "source": [
    "lst=[2,3,4,5,6,7]\n",
    "from functools import reduce\n",
    "reduce(lambda x,y:x+y,lst)"
   ]
  },
  {
   "cell_type": "code",
   "execution_count": 4,
   "metadata": {},
   "outputs": [
    {
     "name": "stdout",
     "output_type": "stream",
     "text": [
      "[20, 22, 24, 26, 28, 30, 32]\n"
     ]
    }
   ],
   "source": [
    "even = list(filter((lambda x:x if(x%2==0) else False),range(20,34)))\n",
    "print(even)"
   ]
  },
  {
   "cell_type": "code",
   "execution_count": 10,
   "metadata": {},
   "outputs": [
    {
     "data": {
      "text/plain": [
       "6"
      ]
     },
     "execution_count": 10,
     "metadata": {},
     "output_type": "execute_result"
    }
   ],
   "source": [
    "reduce(lambda a,b:a if(a>b) else b,[1,2,3,4,5,6])"
   ]
  },
  {
   "cell_type": "code",
   "execution_count": 11,
   "metadata": {},
   "outputs": [
    {
     "name": "stdout",
     "output_type": "stream",
     "text": [
      "3.5\n"
     ]
    }
   ],
   "source": [
    "even=[1,2,3,4,5,6]\n",
    "sum= reduce(lambda x,y:x+y,even)\n",
    "print(sum/len(even))"
   ]
  },
  {
   "cell_type": "code",
   "execution_count": 76,
   "metadata": {},
   "outputs": [
    {
     "name": "stdout",
     "output_type": "stream",
     "text": [
      "[0, 0]\n",
      "[1, 2]\n",
      "[4, 4]\n",
      "[9, 6]\n",
      "[16, 8]\n"
     ]
    }
   ],
   "source": [
    "def multiply(x):\n",
    "    return x*x\n",
    "def add(x):\n",
    "    return x+x\n",
    "funcs=[multiply,add]\n",
    "for i in range(5):\n",
    "    value=list(map(lambda x:x(i),funcs))\n",
    "    print(value)"
   ]
  },
  {
   "cell_type": "code",
   "execution_count": 12,
   "metadata": {},
   "outputs": [
    {
     "name": "stdout",
     "output_type": "stream",
     "text": [
      "[0, 0]\n",
      "[1, 2]\n",
      "[4, 4]\n",
      "[9, 6]\n",
      "[16, 8]\n"
     ]
    }
   ],
   "source": [
    "def multi(x):\n",
    "    return x*x\n",
    "def add(x):\n",
    "    return x+x\n",
    "funcs=[multi,add]\n",
    "for i in range(5):\n",
    "    value = list(map(lambda x:x(i),funcs))\n",
    "    print(value)"
   ]
  }
 ],
 "metadata": {
  "kernelspec": {
   "display_name": "Python 3",
   "language": "python",
   "name": "python3"
  },
  "language_info": {
   "codemirror_mode": {
    "name": "ipython",
    "version": 3
   },
   "file_extension": ".py",
   "mimetype": "text/x-python",
   "name": "python",
   "nbconvert_exporter": "python",
   "pygments_lexer": "ipython3",
   "version": "3.6.4"
  }
 },
 "nbformat": 4,
 "nbformat_minor": 2
}
