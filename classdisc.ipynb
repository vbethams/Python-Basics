{
 "cells": [
  {
   "cell_type": "code",
   "execution_count": 1,
   "metadata": {},
   "outputs": [
    {
     "name": "stdout",
     "output_type": "stream",
     "text": [
      "[5, 5, 6]\n"
     ]
    }
   ],
   "source": [
    "list1= ['apple','mango','carrot']\n",
    "list2=[]\n",
    "for i in list1:\n",
    "    list2.append(len(i))\n",
    "print(list2)"
   ]
  },
  {
   "cell_type": "code",
   "execution_count": 2,
   "metadata": {},
   "outputs": [
    {
     "data": {
      "text/plain": [
       "['apple', 'mango']"
      ]
     },
     "execution_count": 2,
     "metadata": {},
     "output_type": "execute_result"
    }
   ],
   "source": [
    "[list1[i] for i in range(len(list1)-1)]"
   ]
  },
  {
   "cell_type": "code",
   "execution_count": 3,
   "metadata": {},
   "outputs": [
    {
     "name": "stdout",
     "output_type": "stream",
     "text": [
      "enter any number3\n",
      "[1, 4, 9]\n"
     ]
    }
   ],
   "source": [
    "number = int(input (\"enter any number\"))\n",
    "leng = number+1\n",
    "list2=[]\n",
    "for i in range(1,leng):\n",
    "    list2.append(i*i)\n",
    "print(list2)"
   ]
  },
  {
   "cell_type": "code",
   "execution_count": 6,
   "metadata": {},
   "outputs": [
    {
     "name": "stdout",
     "output_type": "stream",
     "text": [
      "enter any number5\n",
      "120\n"
     ]
    }
   ],
   "source": [
    "num = int(input(\"enter any number\"))\n",
    "sum=1\n",
    "while num>0:\n",
    "        sum = sum * num\n",
    "        num=num-1\n",
    "        \n",
    "print(sum)   \n"
   ]
  },
  {
   "cell_type": "code",
   "execution_count": 5,
   "metadata": {},
   "outputs": [
    {
     "name": "stdout",
     "output_type": "stream",
     "text": [
      "enter any number5\n"
     ]
    },
    {
     "data": {
      "text/plain": [
       "[1, 4, 9, 16, 25]"
      ]
     },
     "execution_count": 5,
     "metadata": {},
     "output_type": "execute_result"
    }
   ],
   "source": [
    "numb = int(input(\"enter any number\"))\n",
    "leng=numb+1\n",
    "[i*i for i in range(1,leng)]"
   ]
  },
  {
   "cell_type": "code",
   "execution_count": 6,
   "metadata": {},
   "outputs": [
    {
     "data": {
      "text/plain": [
       "[5, 5, 6]"
      ]
     },
     "execution_count": 6,
     "metadata": {},
     "output_type": "execute_result"
    }
   ],
   "source": [
    "list1=['apple','mango','carrot']\n",
    "[len(i) for i in list1]"
   ]
  },
  {
   "cell_type": "code",
   "execution_count": 6,
   "metadata": {},
   "outputs": [
    {
     "name": "stdout",
     "output_type": "stream",
     "text": [
      "enter any number5\n"
     ]
    },
    {
     "data": {
      "text/plain": [
       "120"
      ]
     },
     "execution_count": 6,
     "metadata": {},
     "output_type": "execute_result"
    }
   ],
   "source": [
    "from functools import reduce\n",
    "num=int(input(\"enter any number\"))\n",
    "reduce(lambda x,y:x*y,range(1,num+1))"
   ]
  },
  {
   "cell_type": "code",
   "execution_count": null,
   "metadata": {},
   "outputs": [],
   "source": []
  },
  {
   "cell_type": "code",
   "execution_count": 7,
   "metadata": {},
   "outputs": [
    {
     "name": "stdout",
     "output_type": "stream",
     "text": [
      "[34, 56, 67, 78, 83]\n"
     ]
    }
   ],
   "source": [
    "list1=[83,56,34,67,78]\n",
    "list2=[]\n",
    "for i in range(len(list1)):\n",
    "    num =reduce(lambda x,y:x if(x<y) else y,list1)\n",
    "    list2.append(num)\n",
    "    list1.remove(num) \n",
    "print(list2)"
   ]
  },
  {
   "cell_type": "code",
   "execution_count": 10,
   "metadata": {},
   "outputs": [
    {
     "name": "stdout",
     "output_type": "stream",
     "text": [
      "enter lower  number3\n",
      "enter upper number0\n",
      "your range is incorrect\n"
     ]
    }
   ],
   "source": [
    "lower=int(input(\"enter lower  number\"))\n",
    "upper=int(input(\"enter upper number\"))\n",
    "list1=[]\n",
    "if(lower>upper):\n",
    "    print(\"your range is incorrect\")\n",
    "elif(lower<0 or upper<0):\n",
    "    print(\"no negative numbers\")\n",
    "else:\n",
    "    for i in range(lower,upper+1):\n",
    "        if(i == 0):\n",
    "            num=1\n",
    "            list1.append(num)\n",
    "        else:\n",
    "            num=reduce(lambda x,y:x*y,range(1,i+1))\n",
    "            list1.append(num)\n",
    "if(len(list1)>0):\n",
    "    print(list1)"
   ]
  },
  {
   "cell_type": "code",
   "execution_count": 11,
   "metadata": {},
   "outputs": [
    {
     "name": "stdout",
     "output_type": "stream",
     "text": [
      "enter any number153\n",
      "armstrong number\n"
     ]
    }
   ],
   "source": [
    "#armstrong number\n",
    "number = int(input(\"enter any number\"))\n",
    "temp=number\n",
    "arm=0\n",
    "while(number>0):\n",
    "    num = number%10\n",
    "    arm= arm + num*num*num\n",
    "    number=number//10\n",
    "if(temp==arm):\n",
    "    print(\"armstrong number\")\n",
    "else:\n",
    "    print(\"not armstrong number\")"
   ]
  },
  {
   "cell_type": "code",
   "execution_count": 14,
   "metadata": {},
   "outputs": [
    {
     "name": "stdout",
     "output_type": "stream",
     "text": [
      "enter low number1\n",
      "enter upper number1000\n",
      "armstrong number 1\n",
      "armstrong number 153\n",
      "armstrong number 370\n",
      "armstrong number 371\n",
      "armstrong number 407\n"
     ]
    }
   ],
   "source": [
    "#armstrong for a given range \n",
    "low = int(input(\"enter low number\"))\n",
    "upper = int(input(\"enter upper number\"))\n",
    "for i in range(low,upper+1):\n",
    "    arm=0\n",
    "    temp=i\n",
    "    while (i >0):\n",
    "        num = i%10\n",
    "        arm=arm+num*num*num\n",
    "        i= i//10\n",
    "    if(temp==arm):\n",
    "        print(\"armstrong number\",temp)"
   ]
  },
  {
   "cell_type": "code",
   "execution_count": 13,
   "metadata": {},
   "outputs": [
    {
     "data": {
      "text/plain": [
       "<filter at 0x1d1c6ec0668>"
      ]
     },
     "execution_count": 13,
     "metadata": {},
     "output_type": "execute_result"
    }
   ],
   "source": [
    "from functools import reduce\n",
    "list1=[5,6,7,8,89]\n",
    "filter(lambda x:x if(x>10)else 0,list1)"
   ]
  }
 ],
 "metadata": {
  "kernelspec": {
   "display_name": "Python 3",
   "language": "python",
   "name": "python3"
  },
  "language_info": {
   "codemirror_mode": {
    "name": "ipython",
    "version": 3
   },
   "file_extension": ".py",
   "mimetype": "text/x-python",
   "name": "python",
   "nbconvert_exporter": "python",
   "pygments_lexer": "ipython3",
   "version": "3.6.4"
  }
 },
 "nbformat": 4,
 "nbformat_minor": 2
}
