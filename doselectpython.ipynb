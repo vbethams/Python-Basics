{
 "cells": [
  {
   "cell_type": "code",
   "execution_count": 176,
   "metadata": {},
   "outputs": [],
   "source": [
    "def prime(a):\n",
    "    list1=[]\n",
    "    for j in range(2,a+1):\n",
    "        #print(j)\n",
    "        if j!=1:\n",
    "            count=0\n",
    "            for i in range(2,j+1):\n",
    "                if j%i==0:\n",
    "                    count = count+1\n",
    "        if count<=1:\n",
    "                  list1.append(j)\n",
    "    return list1\n",
    "def dec(n):\n",
    "    de=0\n",
    "    i=0\n",
    "    while n!=0:\n",
    "        ss = n %10\n",
    "        de = de+ss*2**i\n",
    "        #print(de)\n",
    "        n= n//10\n",
    "        #print(n)\n",
    "        i=i+1\n",
    "    return de\n",
    "def isComp(a,b):\n",
    "    list3=[]\n",
    "    list4=[]\n",
    "    list5=[]\n",
    "    list2 =prime(a)\n",
    "    #print(list2)\n",
    "    for i in list2:\n",
    "        if a%i ==0:\n",
    "            list3.append(i)\n",
    "    for i in list3:\n",
    "        val= bin(i)[2:]\n",
    "        #print(val)\n",
    "        str1=''\n",
    "        for i in val:\n",
    "            if i=='1':\n",
    "                i='0'\n",
    "            else:\n",
    "                i='1'\n",
    "            str1+=i\n",
    "        #print(str1)               \n",
    "        list4.append(int(str1))\n",
    "    for i in list4:\n",
    "        des = dec(i)\n",
    "        list5.append(des)\n",
    "    #print(list5)\n",
    "    cont=0\n",
    "    for i in list5:\n",
    "        if i==b:\n",
    "            cont = cont+1\n",
    "    if cont >=1:\n",
    "        print(True)\n",
    "    else:\n",
    "        print(False)\n",
    "    "
   ]
  },
  {
   "cell_type": "code",
   "execution_count": 323,
   "metadata": {},
   "outputs": [
    {
     "data": {
      "text/plain": [
       "True"
      ]
     },
     "execution_count": 323,
     "metadata": {},
     "output_type": "execute_result"
    }
   ],
   "source": [
    "isComp(35,2)"
   ]
  },
  {
   "cell_type": "code",
   "execution_count": 178,
   "metadata": {},
   "outputs": [
    {
     "data": {
      "text/plain": [
       "False"
      ]
     },
     "execution_count": 178,
     "metadata": {},
     "output_type": "execute_result"
    }
   ],
   "source": [
    "isComp(7,7)"
   ]
  },
  {
   "cell_type": "markdown",
   "metadata": {},
   "source": [
    "# printing palindrome "
   ]
  },
  {
   "cell_type": "code",
   "execution_count": 315,
   "metadata": {},
   "outputs": [],
   "source": [
    "import re\n",
    "def ff(h):\n",
    "        str1=' '\n",
    "        str2=''\n",
    "        str1 = re.findall('[a-zA-Z]+',h)\n",
    "        str2 = re.findall('[0-9]+',h)\n",
    "        return str1,str2\n",
    "def palin(a):\n",
    "    if a[0::] == a[::-1]:\n",
    "        return 'Yes'\n",
    "    else:\n",
    "        return 'No'"
   ]
  },
  {
   "cell_type": "code",
   "execution_count": 316,
   "metadata": {},
   "outputs": [],
   "source": [
    "def ss(a,'sdfsdfsdfsd','sfsdfsdfsdf'):\n",
    "\n",
    "    list1=[]\n",
    "    for i in range(1,a+1):\n",
    "        str1=(input(\"enter any number\"))\n",
    "        list1.append(str1)\n",
    "    for i in list1:\n",
    "        t =ff(i)\n",
    "        str3=\"\".join(t[0])\n",
    "        str4=\"\".join(t[1])\n",
    "        print(palin(str3))\n",
    "    print(palin(str4))"
   ]
  },
  {
   "cell_type": "markdown",
   "metadata": {},
   "source": [
    "# Nesting functions"
   ]
  },
  {
   "cell_type": "code",
   "execution_count": 318,
   "metadata": {},
   "outputs": [],
   "source": [
    "def outer_layer(num):\n",
    "    num = int(num)\n",
    "    list1=[2,5,9,10]\n",
    "    def inner_layer(div):\n",
    "        #print(div)\n",
    "        count=0\n",
    "        for i in div:\n",
    "            if num % i == 0:\n",
    "                count = count+1\n",
    "        #print(count)\n",
    "        if count >=1:\n",
    "            print(True)\n",
    "        else:\n",
    "             print(False)\n",
    "    return inner_layer(list1)"
   ]
  },
  {
   "cell_type": "code",
   "execution_count": 321,
   "metadata": {},
   "outputs": [
    {
     "name": "stdout",
     "output_type": "stream",
     "text": [
      "True\n"
     ]
    }
   ],
   "source": [
    "outer_layer(333)"
   ]
  }
 ],
 "metadata": {
  "kernelspec": {
   "display_name": "Python 3",
   "language": "python",
   "name": "python3"
  },
  "language_info": {
   "codemirror_mode": {
    "name": "ipython",
    "version": 3
   },
   "file_extension": ".py",
   "mimetype": "text/x-python",
   "name": "python",
   "nbconvert_exporter": "python",
   "pygments_lexer": "ipython3",
   "version": "3.6.4"
  }
 },
 "nbformat": 4,
 "nbformat_minor": 2
}
