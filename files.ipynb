{
 "cells": [
  {
   "cell_type": "code",
   "execution_count": 5,
   "metadata": {},
   "outputs": [
    {
     "name": "stdout",
     "output_type": "stream",
     "text": [
      "light\n",
      "light\n",
      "the light\n",
      "The light is good\n",
      "The light and good a\n",
      "the the light is great\n",
      "light all\n",
      "the light is  great in the house\n",
      "good\n",
      "the light and good a\n",
      "\n",
      "python\n",
      "python scsfdsdfsfsd\n",
      "ptitjhkghdpython\n"
     ]
    }
   ],
   "source": [
    "fhand = open('name.txt','r')\n",
    "for line in fhand:\n",
    "    line= line.rstrip()\n",
    "    print(line)"
   ]
  },
  {
   "cell_type": "code",
   "execution_count": 8,
   "metadata": {},
   "outputs": [
    {
     "data": {
      "text/plain": [
       "0"
      ]
     },
     "execution_count": 8,
     "metadata": {},
     "output_type": "execute_result"
    }
   ],
   "source": [
    "sum([1 for line in fhand for character in line if character.isupper()])"
   ]
  },
  {
   "cell_type": "code",
   "execution_count": 5,
   "metadata": {},
   "outputs": [
    {
     "name": "stdout",
     "output_type": "stream",
     "text": [
      "line count 10\n"
     ]
    }
   ],
   "source": [
    "fhand=open('name.txt','r')\n",
    "count=0\n",
    "for line in fhand:\n",
    "    count =count+1\n",
    "print(\"line count\",count)"
   ]
  },
  {
   "cell_type": "code",
   "execution_count": 6,
   "metadata": {},
   "outputs": [],
   "source": [
    "f =open('name.txt','a+')\n",
    "f.write(\"this is my first line\\n\")\n",
    "f.write(\"this is my second line\\n\")\n",
    "f.write(\"this is my third line\\n\")\n",
    "f.write(\"this is my fourth line\\n\")\n",
    "f.close()"
   ]
  },
  {
   "cell_type": "code",
   "execution_count": 7,
   "metadata": {},
   "outputs": [
    {
     "data": {
      "text/plain": [
       "17"
      ]
     },
     "execution_count": 7,
     "metadata": {},
     "output_type": "execute_result"
    }
   ],
   "source": [
    "f= open('name.txt','a+')\n",
    "f.write(\"this is my fifth\\n\")\n"
   ]
  },
  {
   "cell_type": "code",
   "execution_count": 8,
   "metadata": {},
   "outputs": [],
   "source": [
    "f =open('name1.txt','w+')\n",
    "f.write(\"this is my first line\")\n",
    "f.write(\"this is my second line\\n\")\n",
    "f.write(\"this is my third line\\n\")\n",
    "f.write(\"this is my fourth line\\n\")\n",
    "f.close()"
   ]
  },
  {
   "cell_type": "code",
   "execution_count": 2,
   "metadata": {},
   "outputs": [
    {
     "name": "stdout",
     "output_type": "stream",
     "text": [
      "0\n",
      "0\n",
      "10\n"
     ]
    }
   ],
   "source": [
    "f=open('name.txt','r')\n",
    "for line in f:\n",
    "    line= line.rstrip()\n",
    "    if line.find(\"python\")>=0:\n",
    "        print(line.find('python'))"
   ]
  },
  {
   "cell_type": "code",
   "execution_count": 12,
   "metadata": {},
   "outputs": [
    {
     "name": "stdout",
     "output_type": "stream",
     "text": [
      "light\n",
      "light\n",
      "the light\n",
      "the light is good\n",
      "the light and good a\n",
      "the the light is great\n",
      "light all\n",
      "the light is  great in the house\n",
      "good\n",
      "the light and good a\n",
      "\n"
     ]
    }
   ],
   "source": [
    "f=open('name.txt','r')\n",
    "for line in f:\n",
    "    line= line.rstrip()\n",
    "    if line.find(\"python\")<0:\n",
    "        print(line)"
   ]
  },
  {
   "cell_type": "code",
   "execution_count": 14,
   "metadata": {},
   "outputs": [
    {
     "name": "stdout",
     "output_type": "stream",
     "text": [
      "please enter the required charactera\n",
      "[4, 8]\n"
     ]
    }
   ],
   "source": [
    "word = 'renaissance'\n",
    "char1=input(\"please enter the required character\")\n",
    "list1=[]\n",
    "count=0\n",
    "if(char1 in word):\n",
    "    for char in word:\n",
    "        count=count+1\n",
    "        if char==char1:\n",
    "            list1.append(count)\n",
    "else:\n",
    "    print(\"not there\")\n",
    "if(len(list1)>0):\n",
    "    print(list1)"
   ]
  },
  {
   "cell_type": "code",
   "execution_count": 68,
   "metadata": {},
   "outputs": [
    {
     "name": "stdout",
     "output_type": "stream",
     "text": [
      "xsum 8399\n",
      "ysum 8993\n"
     ]
    }
   ],
   "source": [
    "fhand = open('name.txt','r')\n",
    "xsum=0\n",
    "ysum=0\n",
    "for line in fhand:\n",
    "    if(line.find('x')>=0):\n",
    "        xsum = xsum+int(line[13:])\n",
    "    elif(line.find('y')>=0):\n",
    "        ysum = ysum+int(line[13:])\n",
    "print(\"xsum\",xsum)\n",
    "\n",
    "print(\"ysum\",ysum)"
   ]
  },
  {
   "cell_type": "code",
   "execution_count": 51,
   "metadata": {},
   "outputs": [
    {
     "name": "stdout",
     "output_type": "stream",
     "text": [
      "the light is good :delight\n",
      "the light and good a :delight\n",
      "the the light is great :light year\n",
      "the light is  great in the house :light year\n",
      "the light and good a :delight\n"
     ]
    }
   ],
   "source": [
    "fhand = open('name.txt','r')\n",
    "for line in fhand:\n",
    "    line=line.rstrip()\n",
    "    if(line.find('light')>0):\n",
    "        if(len(line)>15 and len(line)<=20):\n",
    "            print(line,\":delight\")\n",
    "        elif(len(line)>20):\n",
    "            print(line,\":light year\")"
   ]
  },
  {
   "cell_type": "code",
   "execution_count": 21,
   "metadata": {},
   "outputs": [
    {
     "name": "stdout",
     "output_type": "stream",
     "text": [
      "the light\n",
      "the light is good\n",
      "the light and good a\n",
      "the the light is great\n",
      "the light is  great in the house\n",
      "good\n",
      "the light and good a\n"
     ]
    }
   ],
   "source": [
    "fhand=open('name.txt','r')\n",
    "for line in fhand:\n",
    "    line=line.rstrip()\n",
    "    if line.startswith('light')==False:\n",
    "        print(line)\n",
    "    "
   ]
  },
  {
   "cell_type": "code",
   "execution_count": 15,
   "metadata": {},
   "outputs": [
    {
     "name": "stdout",
     "output_type": "stream",
     "text": [
      "the light\n",
      "the light is good\n",
      "the light and good a\n",
      "the the light is great\n",
      "the light is  great in the house\n",
      "good\n",
      "the light and good a\n",
      "\n",
      "python\n",
      "python scsfdsdfsfsd\n",
      "ptitjhkghdpython\n"
     ]
    }
   ],
   "source": [
    "fhand=open('name.txt','r')\n",
    "for line in fhand:\n",
    "    line=line.rstrip()\n",
    "    if line.startswith('light'):\n",
    "        continue\n",
    "    print(line)"
   ]
  },
  {
   "cell_type": "code",
   "execution_count": 28,
   "metadata": {},
   "outputs": [
    {
     "name": "stdout",
     "output_type": "stream",
     "text": [
      "['ravi@gmail.com', 'kiran@yahoo.co.in']\n"
     ]
    }
   ],
   "source": [
    "fhand=open('name1.txt')\n",
    "list1=[]\n",
    "for line in fhand:\n",
    "    line=line.rstrip()\n",
    "    if(line.find('@')>=0):\n",
    "        list1.append(line)\n",
    "print(list1)"
   ]
  },
  {
   "cell_type": "code",
   "execution_count": 30,
   "metadata": {},
   "outputs": [
    {
     "name": "stdout",
     "output_type": "stream",
     "text": [
      "ravi@gmail.com\n",
      "kiran@yahoo.co.in\n"
     ]
    }
   ],
   "source": [
    "#using find you have to extract the email id\n",
    "fhand=open('name1.txt')\n",
    "list1=[]\n",
    "for line in fhand:\n",
    "    line=line.rstrip()\n",
    "    if(line.find('@')>=0):\n",
    "        line=line.split()\n",
    "        for i in line:\n",
    "            if(i.find('@')>=0):\n",
    "                print(i)"
   ]
  },
  {
   "cell_type": "code",
   "execution_count": 16,
   "metadata": {},
   "outputs": [
    {
     "name": "stdout",
     "output_type": "stream",
     "text": [
      "enter the file namename.txt\n",
      "lines in file 14\n"
     ]
    }
   ],
   "source": [
    "def count(fname):\n",
    "        fhand=open(fname)\n",
    "        count=0\n",
    "        for line in fhand:\n",
    "            count=count+1\n",
    "        print(\"lines in file\",count)\n",
    "try:\n",
    "    fname = input(\"enter the file name\")\n",
    "    count(fname)\n",
    "except Exception:\n",
    "    print(\"enter the correct file\")\n",
    "    fname=input(\"enter the file name\")\n",
    "    count(fname)"
   ]
  },
  {
   "cell_type": "code",
   "execution_count": null,
   "metadata": {},
   "outputs": [],
   "source": []
  }
 ],
 "metadata": {
  "kernelspec": {
   "display_name": "Python 3",
   "language": "python",
   "name": "python3"
  },
  "language_info": {
   "codemirror_mode": {
    "name": "ipython",
    "version": 3
   },
   "file_extension": ".py",
   "mimetype": "text/x-python",
   "name": "python",
   "nbconvert_exporter": "python",
   "pygments_lexer": "ipython3",
   "version": "3.6.4"
  }
 },
 "nbformat": 4,
 "nbformat_minor": 2
}
